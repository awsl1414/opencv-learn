{
 "cells": [
  {
   "cell_type": "code",
   "execution_count": 9,
   "metadata": {},
   "outputs": [],
   "source": [
    "import cv2\n",
    "import numpy as np\n",
    "from utils import cv_show\n",
    "\n",
    "img = cv2.imread(\"./data/images/dijia.png\")\n",
    "pie = cv2.imread(\"./data/images/pie.png\")"
   ]
  },
  {
   "cell_type": "code",
   "execution_count": 4,
   "metadata": {},
   "outputs": [
    {
     "name": "stderr",
     "output_type": "stream",
     "text": [
      "qt.qpa.plugin: Could not find the Qt platform plugin \"wayland\" in \"/home/arch/.pyenv/versions/3.11.8/envs/opencv/lib/python3.11/site-packages/cv2/qt/plugins\"\n",
      "QFont::fromString: Invalid description 'MiSans,10,-1,5,383,0,0,0,0,0,0,0,0,0,0,1,Medium'\n",
      "QFont::fromString: Invalid description 'Fira Code,10,-1,5,400,0,0,0,0,0,0,0,0,0,0,1'\n",
      "QFont::fromString: Invalid description 'MiSans,10,-1,5,383,0,0,0,0,0,0,0,0,0,0,1,Medium'\n",
      "QFont::fromString: Invalid description 'MiSans,10,-1,5,383,0,0,0,0,0,0,0,0,0,0,1,Medium'\n"
     ]
    }
   ],
   "source": [
    "kernel = np.ones((3, 3), np.uint8)\n",
    "# 腐蚀\n",
    "dijia_erosion = cv2.erode(img, kernel, iterations=2)\n",
    "cv_show(\"dijia_erosion\", dijia_erosion)"
   ]
  },
  {
   "cell_type": "code",
   "execution_count": 7,
   "metadata": {},
   "outputs": [],
   "source": [
    "# 膨胀\n",
    "dijia_dilate = cv2.dilate(dijia_erosion, kernel, iterations=2)\n",
    "cv_show(\"dijia_dilate\", dijia_dilate)"
   ]
  },
  {
   "cell_type": "code",
   "execution_count": 16,
   "metadata": {},
   "outputs": [],
   "source": [
    "dilate1 = cv2.dilate(pie, kernel, iterations=1)\n",
    "dilate2 = cv2.dilate(pie, kernel, iterations=10)\n",
    "dilate3 = cv2.dilate(pie, kernel, iterations=100)\n",
    "\n",
    "res = np.hstack((dilate1, dilate2, dilate3))\n",
    "cv_show(\"res\", res)"
   ]
  },
  {
   "cell_type": "code",
   "execution_count": null,
   "metadata": {},
   "outputs": [],
   "source": []
  }
 ],
 "metadata": {
  "kernelspec": {
   "display_name": "opencv",
   "language": "python",
   "name": "python3"
  },
  "language_info": {
   "codemirror_mode": {
    "name": "ipython",
    "version": 3
   },
   "file_extension": ".py",
   "mimetype": "text/x-python",
   "name": "python",
   "nbconvert_exporter": "python",
   "pygments_lexer": "ipython3",
   "version": "3.11.8"
  }
 },
 "nbformat": 4,
 "nbformat_minor": 2
}
