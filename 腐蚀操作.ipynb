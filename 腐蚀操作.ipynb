{
 "cells": [
  {
   "cell_type": "markdown",
   "metadata": {},
   "source": [
    "# 形态学-腐蚀"
   ]
  },
  {
   "cell_type": "code",
   "execution_count": 5,
   "metadata": {},
   "outputs": [],
   "source": [
    "import cv2\n",
    "import numpy as np\n",
    "from utils import cv_show\n",
    "\n",
    "img = cv2.imread(\"./data/images/dijia.png\")\n",
    "\n",
    "cv_show(\"dijia\", img)"
   ]
  },
  {
   "cell_type": "code",
   "execution_count": 6,
   "metadata": {},
   "outputs": [],
   "source": [
    "# 区域\n",
    "kernel = np.ones((3, 3), np.uint8)\n",
    "\n",
    "# 腐蚀操作\n",
    "erosion = cv2.erode(img, kernel, iterations=2)\n",
    "cv_show(\"erosion\", erosion)"
   ]
  },
  {
   "cell_type": "code",
   "execution_count": 7,
   "metadata": {},
   "outputs": [],
   "source": [
    "pie = cv2.imread(\"./data/images/pie.png\")\n",
    "cv_show(\"pie\", pie)"
   ]
  },
  {
   "cell_type": "code",
   "execution_count": 8,
   "metadata": {},
   "outputs": [],
   "source": [
    "kernel = np.ones((30, 30), np.uint8)\n",
    "\n",
    "erosion1 = cv2.erode(pie, kernel, iterations=1)\n",
    "erosion2 = cv2.erode(pie, kernel, iterations=2)\n",
    "erosion3 = cv2.erode(pie, kernel, iterations=3)\n",
    "# 拼接\n",
    "res = np.hstack((erosion1, erosion2, erosion3))\n",
    "cv_show(\"res\", res)\n",
    "\n",
    "\n"
   ]
  },
  {
   "cell_type": "code",
   "execution_count": null,
   "metadata": {},
   "outputs": [],
   "source": []
  }
 ],
 "metadata": {
  "kernelspec": {
   "display_name": "opencv",
   "language": "python",
   "name": "python3"
  },
  "language_info": {
   "codemirror_mode": {
    "name": "ipython",
    "version": 3
   },
   "file_extension": ".py",
   "mimetype": "text/x-python",
   "name": "python",
   "nbconvert_exporter": "python",
   "pygments_lexer": "ipython3",
   "version": "3.11.8"
  }
 },
 "nbformat": 4,
 "nbformat_minor": 2
}
