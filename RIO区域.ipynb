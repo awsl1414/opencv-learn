{
 "cells": [
  {
   "cell_type": "code",
   "execution_count": 1,
   "metadata": {},
   "outputs": [],
   "source": [
    "import cv2\n",
    "\n",
    "img = cv2.imread(\"./data/images/2024-03-28_23-34.png\")\n",
    "\n",
    "def cv_show(name,img):\n",
    "    cv2.imshow(name, img)\n",
    "    cv2.waitKey(0)\n",
    "    cv2.destroyAllWindows()\n"
   ]
  },
  {
   "cell_type": "code",
   "execution_count": 2,
   "metadata": {},
   "outputs": [],
   "source": [
    "# 截取部分图像数据\n",
    "temp = img[0:200, 0:200]"
   ]
  },
  {
   "cell_type": "code",
   "execution_count": 3,
   "metadata": {},
   "outputs": [
    {
     "name": "stderr",
     "output_type": "stream",
     "text": [
      "qt.qpa.plugin: Could not find the Qt platform plugin \"wayland\" in \"/home/arch/.pyenv/versions/3.11.8/envs/opencv/lib/python3.11/site-packages/cv2/qt/plugins\"\n",
      "QFont::fromString: Invalid description 'MiSans,10,-1,5,383,0,0,0,0,0,0,0,0,0,0,1,Medium'\n",
      "QFont::fromString: Invalid description 'Fira Code,10,-1,5,400,0,0,0,0,0,0,0,0,0,0,1'\n",
      "QFont::fromString: Invalid description 'MiSans,10,-1,5,383,0,0,0,0,0,0,0,0,0,0,1,Medium'\n",
      "QFont::fromString: Invalid description 'MiSans,10,-1,5,383,0,0,0,0,0,0,0,0,0,0,1,Medium'\n"
     ]
    }
   ],
   "source": [
    "cv_show(\"200x200\", temp)"
   ]
  },
  {
   "cell_type": "code",
   "execution_count": 4,
   "metadata": {},
   "outputs": [],
   "source": [
    "# 颜色通道提取\n",
    "b, g, r = cv2.split(img)"
   ]
  },
  {
   "cell_type": "code",
   "execution_count": 5,
   "metadata": {},
   "outputs": [
    {
     "data": {
      "text/plain": [
       "(1200, 2022)"
      ]
     },
     "execution_count": 5,
     "metadata": {},
     "output_type": "execute_result"
    }
   ],
   "source": [
    "b.shape"
   ]
  },
  {
   "cell_type": "code",
   "execution_count": 6,
   "metadata": {},
   "outputs": [
    {
     "data": {
      "text/plain": [
       "(1200, 2022)"
      ]
     },
     "execution_count": 6,
     "metadata": {},
     "output_type": "execute_result"
    }
   ],
   "source": [
    "g.shape"
   ]
  },
  {
   "cell_type": "code",
   "execution_count": 7,
   "metadata": {},
   "outputs": [],
   "source": [
    "# 颜色通道合并\n",
    "img = cv2.merge((b,g,r))"
   ]
  },
  {
   "cell_type": "code",
   "execution_count": 8,
   "metadata": {},
   "outputs": [
    {
     "data": {
      "text/plain": [
       "(1200, 2022, 3)"
      ]
     },
     "execution_count": 8,
     "metadata": {},
     "output_type": "execute_result"
    }
   ],
   "source": [
    "img.shape"
   ]
  },
  {
   "cell_type": "code",
   "execution_count": 10,
   "metadata": {},
   "outputs": [],
   "source": [
    "# 只保留 R\n",
    "cur_img = img.copy()\n",
    "cur_img[:, :, 0] = 0  # B\n",
    "cur_img[:, :, 1] = 0  # G\n",
    "cv_show(\"R\", cur_img)"
   ]
  },
  {
   "cell_type": "code",
   "execution_count": 11,
   "metadata": {},
   "outputs": [],
   "source": [
    "# 只保留 G\n",
    "cur_img = img.copy()\n",
    "cur_img[:, :, 0] = 0\n",
    "cur_img[:, :, 2] = 0\n",
    "cv_show(\"G\", cur_img)"
   ]
  },
  {
   "cell_type": "code",
   "execution_count": 13,
   "metadata": {},
   "outputs": [],
   "source": [
    "# 只保留 B\n",
    "cur_img = img.copy()\n",
    "cur_img[:, :, 1] = 0\n",
    "cur_img[:, :, 2] = 0\n",
    "cv_show(\"B\", cur_img)"
   ]
  }
 ],
 "metadata": {
  "kernelspec": {
   "display_name": "opencv",
   "language": "python",
   "name": "python3"
  },
  "language_info": {
   "codemirror_mode": {
    "name": "ipython",
    "version": 3
   },
   "file_extension": ".py",
   "mimetype": "text/x-python",
   "name": "python",
   "nbconvert_exporter": "python",
   "pygments_lexer": "ipython3",
   "version": "3.11.8"
  }
 },
 "nbformat": 4,
 "nbformat_minor": 2
}
