{
 "cells": [
  {
   "cell_type": "markdown",
   "metadata": {},
   "source": [
    "### 开运算：先腐蚀，再膨胀\n",
    "### 闭运算：先膨胀，再腐蚀"
   ]
  },
  {
   "cell_type": "code",
   "execution_count": 1,
   "metadata": {},
   "outputs": [],
   "source": [
    "import cv2\n",
    "import numpy as np\n",
    "from utils import cv_show "
   ]
  },
  {
   "cell_type": "code",
   "execution_count": 2,
   "metadata": {},
   "outputs": [],
   "source": [
    "img_dijia = cv2.imread(\"./data/images/dijia.png\")\n",
    "kernel = np.ones((3, 3), np.uint8)"
   ]
  },
  {
   "cell_type": "code",
   "execution_count": 3,
   "metadata": {},
   "outputs": [
    {
     "name": "stderr",
     "output_type": "stream",
     "text": [
      "qt.qpa.plugin: Could not find the Qt platform plugin \"wayland\" in \"/home/arch/.pyenv/versions/3.11.9/envs/science/lib/python3.11/site-packages/cv2/qt/plugins\"\n",
      "QFont::fromString: Invalid description 'MiSans,10,-1,5,383,0,0,0,0,0,0,0,0,0,0,1,Medium'\n",
      "QFont::fromString: Invalid description 'Fira Code,10,-1,5,500,0,0,0,0,0,0,0,0,0,0,1,Medium'\n",
      "QFont::fromString: Invalid description 'MiSans,10,-1,5,383,0,0,0,0,0,0,0,0,0,0,1,Medium'\n",
      "QFont::fromString: Invalid description 'MiSans,10,-1,5,383,0,0,0,0,0,0,0,0,0,0,1,Medium'\n"
     ]
    }
   ],
   "source": [
    "# 用形态学方法\n",
    "opening = cv2.morphologyEx(img_dijia, cv2.MORPH_OPEN, kernel, iterations=2)\n",
    "cv_show(\"opening\", opening)"
   ]
  },
  {
   "cell_type": "code",
   "execution_count": 4,
   "metadata": {},
   "outputs": [],
   "source": [
    "closing = cv2.morphologyEx(img_dijia, cv2.MORPH_CLOSE, kernel, iterations=2)\n",
    "cv_show(\"close\", closing)"
   ]
  }
 ],
 "metadata": {
  "kernelspec": {
   "display_name": "opencv",
   "language": "python",
   "name": "python3"
  },
  "language_info": {
   "codemirror_mode": {
    "name": "ipython",
    "version": 3
   },
   "file_extension": ".py",
   "mimetype": "text/x-python",
   "name": "python",
   "nbconvert_exporter": "python",
   "pygments_lexer": "ipython3",
   "version": "3.11.9"
  }
 },
 "nbformat": 4,
 "nbformat_minor": 2
}
