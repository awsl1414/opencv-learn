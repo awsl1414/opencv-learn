{
 "cells": [
  {
   "cell_type": "markdown",
   "metadata": {},
   "source": [
    "![](./data/images/sobel.png)"
   ]
  },
  {
   "cell_type": "markdown",
   "metadata": {},
   "source": [
    "### 梯度：膨胀减腐蚀"
   ]
  },
  {
   "cell_type": "code",
   "execution_count": 2,
   "metadata": {},
   "outputs": [],
   "source": [
    "import cv2\n",
    "import numpy as np\n",
    "from utils import cv_show"
   ]
  },
  {
   "cell_type": "code",
   "execution_count": 3,
   "metadata": {},
   "outputs": [],
   "source": [
    "img_dijia = cv2.imread(\"./data/images/dijia.png\")\n",
    "img_dijia_gray = cv2.imread(\"./data/images/pie.png\", cv2.IMREAD_GRAYSCALE)\n",
    "\n",
    "kernel = np.ones((3, 3), np.uint8)"
   ]
  },
  {
   "cell_type": "code",
   "execution_count": 4,
   "metadata": {},
   "outputs": [
    {
     "name": "stderr",
     "output_type": "stream",
     "text": [
      "qt.qpa.plugin: Could not find the Qt platform plugin \"wayland\" in \"/home/arch/.pyenv/versions/3.11.9/envs/science/lib/python3.11/site-packages/cv2/qt/plugins\"\n",
      "QFont::fromString: Invalid description 'MiSans,10,-1,5,383,0,0,0,0,0,0,0,0,0,0,1,Medium'\n",
      "QFont::fromString: Invalid description 'Fira Code,10,-1,5,500,0,0,0,0,0,0,0,0,0,0,1,Medium'\n",
      "QFont::fromString: Invalid description 'MiSans,10,-1,5,383,0,0,0,0,0,0,0,0,0,0,1,Medium'\n",
      "QFont::fromString: Invalid description 'MiSans,10,-1,5,383,0,0,0,0,0,0,0,0,0,0,1,Medium'\n"
     ]
    }
   ],
   "source": [
    "# 腐蚀\n",
    "erosion = cv2.erode(img_dijia, kernel, iterations=2)\n",
    "# 膨胀\n",
    "dilate = cv2.dilate(img_dijia, kernel, iterations=2)\n",
    "\n",
    "res = np.hstack((erosion, dilate))\n",
    "cv_show(\"res\", res)"
   ]
  },
  {
   "cell_type": "code",
   "execution_count": 5,
   "metadata": {},
   "outputs": [],
   "source": [
    "# 梯度 = 膨胀 - 腐蚀\n",
    "gradient = cv2.morphologyEx(img_dijia, cv2.MORPH_GRADIENT, kernel, iterations=2)\n",
    "cv_show(\"gradient\", gradient)"
   ]
  },
  {
   "cell_type": "markdown",
   "metadata": {},
   "source": [
    "### dst = cv2.Sobel（src，ddepth, dx, dy, ksize）\n",
    "\n",
    "- ddepth：图像的深度\n",
    "- dx和dy分别表示水平和竖直方向\n",
    "- ksize是Sobel算子的大小\n"
   ]
  },
  {
   "cell_type": "code",
   "execution_count": 6,
   "metadata": {},
   "outputs": [],
   "source": [
    "# 求 sobelx\n",
    "sobelx = cv2.Sobel(img_dijia_gray, cv2.CV_64F, 1, 0, ksize=3)\n",
    "cv_show(\"sobelx\", sobelx)\n",
    "\n",
    "# 白到黑是正数，黑到白是负数，所有的负数都会截断成0,数以要取绝对值\n",
    "sobelx_abs = cv2.convertScaleAbs(sobelx)\n",
    "cv_show(\"sobelx_abs\", sobelx_abs)"
   ]
  },
  {
   "cell_type": "code",
   "execution_count": 7,
   "metadata": {},
   "outputs": [],
   "source": [
    "# 求 sobely\n",
    "sobely = cv2.Sobel(img_dijia_gray, cv2.CV_64F, 0, 1, ksize=3)\n",
    "cv_show(\"sobely\", sobely)\n",
    "\n",
    "sobely_abs = cv2.convertScaleAbs(sobely)\n",
    "cv_show(\"sobely_abs\", sobely_abs)"
   ]
  },
  {
   "cell_type": "code",
   "execution_count": 8,
   "metadata": {},
   "outputs": [],
   "source": [
    "# 求和\n",
    "sobelxy = cv2.addWeighted(sobelx_abs, 0.5, sobely_abs, .05, 0)\n",
    "cv_show(\"sobelxy\", sobelxy)"
   ]
  },
  {
   "cell_type": "code",
   "execution_count": 9,
   "metadata": {},
   "outputs": [],
   "source": [
    "# 直接计算(不推荐)\n",
    "sobelxy_direct = cv2.Sobel(img_dijia_gray, cv2.CV_64F, 1, 1, ksize=3)\n",
    "cv_show(\"sobelxy_direct\", sobelxy_direct)"
   ]
  },
  {
   "cell_type": "markdown",
   "metadata": {},
   "source": [
    "![](./data/images/scharr-laplacian.png)"
   ]
  },
  {
   "cell_type": "code",
   "execution_count": 10,
   "metadata": {},
   "outputs": [],
   "source": [
    "# Scharr 算子\n",
    "scharrx = cv2.Scharr(img_dijia_gray, cv2.CV_64F, 1, 0)\n",
    "scharry = cv2.Scharr(img_dijia_gray, cv2.CV_64F, 0, 1)\n",
    "scharrx_abs = cv2.convertScaleAbs(scharrx)\n",
    "scharry_abs = cv2.convertScaleAbs(scharry)\n",
    "# 合成图片\n",
    "scharrxy = cv2.addWeighted(scharrx_abs, 0.5, scharry_abs, 0.5, 0)"
   ]
  },
  {
   "cell_type": "code",
   "execution_count": 11,
   "metadata": {},
   "outputs": [],
   "source": [
    "# Laplacian 算子：对噪点感应明显，通常结合其他使用\n",
    "laplacian = cv2.Laplacian(img_dijia_gray, cv2.CV_64F)\n",
    "laplacian_abs = cv2.convertScaleAbs(laplacian)"
   ]
  },
  {
   "cell_type": "code",
   "execution_count": 12,
   "metadata": {},
   "outputs": [],
   "source": [
    "# 拼接对比\n",
    "res = np.hstack((sobelxy, scharrxy, laplacian_abs))\n",
    "cv_show(\"res\", res)"
   ]
  }
 ],
 "metadata": {
  "kernelspec": {
   "display_name": "opencv",
   "language": "python",
   "name": "python3"
  },
  "language_info": {
   "codemirror_mode": {
    "name": "ipython",
    "version": 3
   },
   "file_extension": ".py",
   "mimetype": "text/x-python",
   "name": "python",
   "nbconvert_exporter": "python",
   "pygments_lexer": "ipython3",
   "version": "3.11.9"
  }
 },
 "nbformat": 4,
 "nbformat_minor": 2
}
