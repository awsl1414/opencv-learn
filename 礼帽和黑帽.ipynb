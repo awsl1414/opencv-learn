{
 "cells": [
  {
   "cell_type": "markdown",
   "metadata": {},
   "source": [
    "### 礼帽：原始输入 - 开运算\n",
    "### 黑帽：闭运算 - 原始结果"
   ]
  },
  {
   "cell_type": "code",
   "execution_count": 14,
   "metadata": {},
   "outputs": [],
   "source": [
    "import cv2\n",
    "import numpy as np\n",
    "from utils import cv_show\n",
    "\n",
    "img_dijia = cv2.imread(\"./data/images/dijia.png\")\n",
    "kernel = np.ones((3, 3), np.uint8)"
   ]
  },
  {
   "cell_type": "code",
   "execution_count": 15,
   "metadata": {},
   "outputs": [],
   "source": [
    "# 礼帽：原始 - 开运算\n",
    "tophat = cv2.morphologyEx(img_dijia, cv2.MORPH_TOPHAT, kernel, iterations=2)\n",
    "cv_show(\"tophat\", tophat)"
   ]
  },
  {
   "cell_type": "code",
   "execution_count": 17,
   "metadata": {},
   "outputs": [],
   "source": [
    "# 黑帽：闭运算 - 原始\n",
    "blackhat = cv2.morphologyEx(img_dijia, cv2.MORPH_BLACKHAT, kernel, iterations=2)\n",
    "cv_show(\"blackhat\", blackhat)"
   ]
  },
  {
   "cell_type": "code",
   "execution_count": null,
   "metadata": {},
   "outputs": [],
   "source": []
  }
 ],
 "metadata": {
  "kernelspec": {
   "display_name": "opencv",
   "language": "python",
   "name": "python3"
  },
  "language_info": {
   "codemirror_mode": {
    "name": "ipython",
    "version": 3
   },
   "file_extension": ".py",
   "mimetype": "text/x-python",
   "name": "python",
   "nbconvert_exporter": "python",
   "pygments_lexer": "ipython3",
   "version": "3.11.8"
  }
 },
 "nbformat": 4,
 "nbformat_minor": 2
}
