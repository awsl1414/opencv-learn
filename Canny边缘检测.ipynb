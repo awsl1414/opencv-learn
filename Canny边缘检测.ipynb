{
 "cells": [
  {
   "cell_type": "markdown",
   "metadata": {},
   "source": [
    "### Canny边缘检测\n",
    "\n",
    "- 1）使用高斯滤波器，以平滑图像，滤除噪声\n",
    "- 2）计算图像中每个像素点的梯度强度和方向\n",
    "- 3）应用非极大值（Non-MaximumSuppression）抑制，以消除边缘检测带来的杂散响应\n",
    "- 4）应用双國值（Double-Threshold）检测来确定真实的和潜在的边缘\n",
    "- 5）通过抑制孤立的弱边缘最终完成边缘检测"
   ]
  },
  {
   "cell_type": "code",
   "execution_count": 12,
   "metadata": {},
   "outputs": [],
   "source": [
    "import cv2\n",
    "import numpy as np\n",
    "import matplotlib.pyplot as plt\n",
    "from utils import cv_show\n",
    "\n",
    "img_star = cv2.imread(\"./data/images/star.png\")\n",
    "img_car = cv2.imread(\"./data/images/car.png\")\n",
    "\n",
    "star_canny1 = cv2.Canny(img_star, 80, 150)\n",
    "star_canny2 = cv2.Canny(img_star, 40, 80)\n",
    "car_canny1 = cv2.Canny(img_car, 80, 150)\n",
    "car_canny2 = cv2.Canny(img_car, 40, 80)\n"
   ]
  },
  {
   "cell_type": "code",
   "execution_count": 13,
   "metadata": {},
   "outputs": [],
   "source": [
    "res1 = np.hstack((star_canny1, star_canny1))\n",
    "cv_show(\"res\", res1)"
   ]
  },
  {
   "cell_type": "code",
   "execution_count": 14,
   "metadata": {},
   "outputs": [],
   "source": [
    "res2 = np.hstack((car_canny1, car_canny2))\n",
    "cv_show(\"res2\", res2)"
   ]
  },
  {
   "cell_type": "code",
   "execution_count": null,
   "metadata": {},
   "outputs": [],
   "source": []
  }
 ],
 "metadata": {
  "kernelspec": {
   "display_name": "opencv",
   "language": "python",
   "name": "python3"
  },
  "language_info": {
   "codemirror_mode": {
    "name": "ipython",
    "version": 3
   },
   "file_extension": ".py",
   "mimetype": "text/x-python",
   "name": "python",
   "nbconvert_exporter": "python",
   "pygments_lexer": "ipython3",
   "version": "3.11.8"
  }
 },
 "nbformat": 4,
 "nbformat_minor": 2
}
