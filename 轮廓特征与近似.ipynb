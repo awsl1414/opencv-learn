{
  "cells": [
    {
      "cell_type": "markdown",
      "metadata": {},
      "source": [
        "### 轮廓特征"
      ]
    },
    {
      "cell_type": "code",
      "execution_count": 9,
      "metadata": {},
      "outputs": [],
      "source": [
        "import cv2\n",
        "from utils import cv_show"
      ]
    },
    {
      "cell_type": "code",
      "execution_count": 10,
      "metadata": {},
      "outputs": [],
      "source": [
        "img1 = cv2.imread(\"./data/images/轮廓近似.png\")\n",
        "img1_gray = cv2.cvtColor(img1, cv2.COLOR_BGR2GRAY)"
      ]
    },
    {
      "cell_type": "code",
      "execution_count": 14,
      "metadata": {},
      "outputs": [],
      "source": [
        "# 二值化\n",
        "ret1, thresh1 = cv2.threshold(img1_gray, 127, 255, cv2.THRESH_BINARY)\n",
        "# 寻找轮廓\n",
        "contours1, hierarchy1 = cv2.findContours(thresh1, cv2.RETR_TREE, cv2.CHAIN_APPROX_NONE)\n",
        "# 取出第二个轮廓\n",
        "cnt1 = contours1[1]"
      ]
    },
    {
      "cell_type": "code",
      "execution_count": 20,
      "metadata": {},
      "outputs": [],
      "source": [
        "draw_img1 = img1.copy()\n",
        "res1 = cv2.drawContours(draw_img1, cnt1, -1, (0, 0, 255), 2)\n",
        "cv_show(\"res1\", res1)"
      ]
    },
    {
      "cell_type": "code",
      "execution_count": 24,
      "metadata": {},
      "outputs": [],
      "source": [
        "#\n",
        "epsilon1 = 0.15 * cv2.arcLength(cnt1, True)\n",
        "approx = cv2.approxPolyDP(cnt1, epsilon1, True)\n",
        "\n",
        "draw_img2 = img1.copy()\n",
        "res2 = cv2.drawContours(draw_img2, [approx], -1, (0, 0, 255), 2)\n",
        "cv_show(\"res2\", res2)"
      ]
    },
    {
      "cell_type": "code",
      "execution_count": null,
      "metadata": {},
      "outputs": [],
      "source": []
    }
  ],
  "metadata": {
    "kernelspec": {
      "display_name": "science",
      "language": "python",
      "name": "python3"
    },
    "language_info": {
      "codemirror_mode": {
        "name": "ipython",
        "version": 3
      },
      "file_extension": ".py",
      "mimetype": "text/x-python",
      "name": "python",
      "nbconvert_exporter": "python",
      "pygments_lexer": "ipython3",
      "version": "3.11.9"
    }
  },
  "nbformat": 4,
  "nbformat_minor": 2
}
