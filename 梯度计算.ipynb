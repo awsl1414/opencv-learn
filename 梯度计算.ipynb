{
 "cells": [
  {
   "cell_type": "code",
   "execution_count": 1,
   "metadata": {},
   "outputs": [],
   "source": [
    "# 梯度：膨胀减腐蚀\n",
    "\n",
    "import cv2\n",
    "import numpy as np\n",
    "from utils import cv_show\n",
    "\n",
    "img = cv2.imread(\"./data/images/dijia.png\")\n",
    "\n",
    "kernel = np.ones((3, 3), np.uint8)"
   ]
  },
  {
   "cell_type": "code",
   "execution_count": 3,
   "metadata": {},
   "outputs": [
    {
     "name": "stderr",
     "output_type": "stream",
     "text": [
      "qt.qpa.plugin: Could not find the Qt platform plugin \"wayland\" in \"/home/arch/.pyenv/versions/3.11.8/envs/opencv/lib/python3.11/site-packages/cv2/qt/plugins\"\n",
      "QFont::fromString: Invalid description 'MiSans,10,-1,5,383,0,0,0,0,0,0,0,0,0,0,1,Medium'\n",
      "QFont::fromString: Invalid description 'Fira Code,10,-1,5,400,0,0,0,0,0,0,0,0,0,0,1'\n",
      "QFont::fromString: Invalid description 'MiSans,10,-1,5,383,0,0,0,0,0,0,0,0,0,0,1,Medium'\n",
      "QFont::fromString: Invalid description 'MiSans,10,-1,5,383,0,0,0,0,0,0,0,0,0,0,1,Medium'\n"
     ]
    }
   ],
   "source": [
    "# 腐蚀\n",
    "erosion = cv2.erode(img, kernel, iterations=2)\n",
    "# 膨胀\n",
    "dilate = cv2.dilate(img, kernel, iterations=2)\n",
    "\n",
    "res = np.hstack((erosion, dilate))\n",
    "cv_show(\"res\", res)"
   ]
  },
  {
   "cell_type": "code",
   "execution_count": 4,
   "metadata": {},
   "outputs": [
    {
     "ename": "error",
     "evalue": "OpenCV(4.9.0) :-1: error: (-5:Bad argument) in function 'morphologyEx'\n> Overload resolution failed:\n>  - morphologyEx() missing required argument 'kernel' (pos 3)\n>  - morphologyEx() missing required argument 'kernel' (pos 3)\n",
     "output_type": "error",
     "traceback": [
      "\u001b[0;31m---------------------------------------------------------------------------\u001b[0m",
      "\u001b[0;31merror\u001b[0m                                     Traceback (most recent call last)",
      "Cell \u001b[0;32mIn[4], line 2\u001b[0m\n\u001b[1;32m      1\u001b[0m \u001b[38;5;66;03m# 梯度 = 膨胀 - 腐蚀\u001b[39;00m\n\u001b[0;32m----> 2\u001b[0m gradient \u001b[38;5;241m=\u001b[39m \u001b[43mcv2\u001b[49m\u001b[38;5;241;43m.\u001b[39;49m\u001b[43mmorphologyEx\u001b[49m\u001b[43m(\u001b[49m\u001b[43mimg\u001b[49m\u001b[43m,\u001b[49m\u001b[43m \u001b[49m\u001b[43mcv2\u001b[49m\u001b[38;5;241;43m.\u001b[39;49m\u001b[43mMORPH_GRADIENT\u001b[49m\u001b[43m,\u001b[49m\u001b[43m \u001b[49m\u001b[43miterations\u001b[49m\u001b[38;5;241;43m=\u001b[39;49m\u001b[38;5;241;43m2\u001b[39;49m\u001b[43m)\u001b[49m\n\u001b[1;32m      3\u001b[0m cv_show(\u001b[38;5;124m\"\u001b[39m\u001b[38;5;124mgradient\u001b[39m\u001b[38;5;124m\"\u001b[39m, gradient)\n",
      "\u001b[0;31merror\u001b[0m: OpenCV(4.9.0) :-1: error: (-5:Bad argument) in function 'morphologyEx'\n> Overload resolution failed:\n>  - morphologyEx() missing required argument 'kernel' (pos 3)\n>  - morphologyEx() missing required argument 'kernel' (pos 3)\n"
     ]
    }
   ],
   "source": [
    "# 梯度 = 膨胀 - 腐蚀\n",
    "gradient = cv2.morphologyEx(img, cv2.MORPH_GRADIENT, kernel, iterations=2)\n",
    "cv_show(\"gradient\", gradient)"
   ]
  },
  {
   "cell_type": "code",
   "execution_count": null,
   "metadata": {},
   "outputs": [],
   "source": []
  }
 ],
 "metadata": {
  "kernelspec": {
   "display_name": "opencv",
   "language": "python",
   "name": "python3"
  },
  "language_info": {
   "codemirror_mode": {
    "name": "ipython",
    "version": 3
   },
   "file_extension": ".py",
   "mimetype": "text/x-python",
   "name": "python",
   "nbconvert_exporter": "python",
   "pygments_lexer": "ipython3",
   "version": "3.11.8"
  }
 },
 "nbformat": 4,
 "nbformat_minor": 2
}
