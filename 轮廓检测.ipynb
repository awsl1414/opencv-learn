{
 "cells": [
  {
   "cell_type": "markdown",
   "metadata": {},
   "source": [
    "### cv2.findContours(img, mode, method)\n",
    "\n",
    "mode:轮廓检索模式\n",
    "\n",
    "- RETR_EXTERNAL：只检索最外面的轮廓\n",
    "- RETR_LIST：检索所有的轮廓，并将其保存到一条链表当中；\n",
    "- RETR_CCOMP：检索所有的轮廓，并将他们组织为两层：顶层是各部分的外部边界，第二层是空洞的边界\n",
    "- RETR_TREE：检索所有的轮廓，并重构嵌套轮廓的整个层次\n",
    "\n",
    "method:轮廓逼近方法\n",
    "\n",
    "- CHAIN_APPROX_NONE：以Freeman链码的方式输出轮廓，所有其他方法输出多边形（顶点的序列）。\n",
    "- CHAIN_APPROX_SIMPLE：压缩水平的、垂直的和斜的部分，也就是，函数只保留他们的终点部分"
   ]
  },
  {
   "cell_type": "code",
   "execution_count": 50,
   "metadata": {},
   "outputs": [],
   "source": [
    "import cv2\n",
    "from utils import cv_show\n",
    "\n",
    "img_star = cv2.imread(\"./data/images/star.png\")\n",
    "img_star_gray = cv2.cvtColor(img_star, cv2.COLOR_BGR2GRAY)\n",
    "cv_show(\"img_star_gray\", img_star_gray)"
   ]
  },
  {
   "cell_type": "code",
   "execution_count": 51,
   "metadata": {},
   "outputs": [],
   "source": [
    "# 阈值\n",
    "ret, thresh = cv2.threshold(img_star_gray, 127, 255, cv2.THRESH_BINARY)\n",
    "cv_show(\"thresh\", thresh)"
   ]
  },
  {
   "cell_type": "markdown",
   "metadata": {},
   "source": [
    "### 绘制轮廓"
   ]
  },
  {
   "cell_type": "code",
   "execution_count": 52,
   "metadata": {},
   "outputs": [],
   "source": [
    "contours, hierarchy = cv2.findContours(\n",
    "    thresh, cv2.RETR_TREE, cv2.CHAIN_APPROX_NONE\n",
    ")"
   ]
  },
  {
   "cell_type": "code",
   "execution_count": 53,
   "metadata": {},
   "outputs": [],
   "source": [
    "# 传入绘制图像，轮廓，轮廓索引，颜色模式，线条厚度\n",
    "# 需要 copy ，否则原图会变\n",
    "draw_img1 = img_star.copy()\n",
    "\n",
    "res = cv2.drawContours(draw_img1, contours, -1, (0, 0, 255), 2)\n",
    "cv_show(\"res\", res)\n",
    "cv_show(\"img_star_gray\", img_star)\n"
   ]
  },
  {
   "cell_type": "code",
   "execution_count": 55,
   "metadata": {},
   "outputs": [],
   "source": []
  },
  {
   "cell_type": "code",
   "execution_count": null,
   "metadata": {},
   "outputs": [],
   "source": []
  }
 ],
 "metadata": {
  "kernelspec": {
   "display_name": "opencv",
   "language": "python",
   "name": "python3"
  },
  "language_info": {
   "codemirror_mode": {
    "name": "ipython",
    "version": 3
   },
   "file_extension": ".py",
   "mimetype": "text/x-python",
   "name": "python",
   "nbconvert_exporter": "python",
   "pygments_lexer": "ipython3",
   "version": "3.11.8"
  }
 },
 "nbformat": 4,
 "nbformat_minor": 2
}
